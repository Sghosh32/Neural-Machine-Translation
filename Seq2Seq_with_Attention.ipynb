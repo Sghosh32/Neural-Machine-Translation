{
  "nbformat": 4,
  "nbformat_minor": 0,
  "metadata": {
    "colab": {
      "name": "Seq2Seq with Attention",
      "provenance": [],
      "include_colab_link": true
    },
    "kernelspec": {
      "name": "python3",
      "display_name": "Python 3"
    },
    "language_info": {
      "name": "python"
    },
    "accelerator": "GPU"
  },
  "cells": [
    {
      "cell_type": "markdown",
      "metadata": {
        "id": "view-in-github",
        "colab_type": "text"
      },
      "source": [
        "<a href=\"https://colab.research.google.com/github/Sghosh32/Neural-Machine-Translation/blob/main/Seq2Seq_with_Attention.ipynb\" target=\"_parent\"><img src=\"https://colab.research.google.com/assets/colab-badge.svg\" alt=\"Open In Colab\"/></a>"
      ]
    },
    {
      "cell_type": "code",
      "execution_count": null,
      "metadata": {
        "id": "oIybCD7VIQfo",
        "colab": {
          "base_uri": "https://localhost:8080/"
        },
        "outputId": "e9aaf54d-ad23-472f-8334-c06428f56a3a"
      },
      "outputs": [
        {
          "output_type": "stream",
          "name": "stdout",
          "text": [
            "Looking in indexes: https://pypi.org/simple, https://us-python.pkg.dev/colab-wheels/public/simple/\n",
            "Collecting torchtext==0.6.0\n",
            "  Downloading torchtext-0.6.0-py3-none-any.whl (64 kB)\n",
            "\u001b[K     |████████████████████████████████| 64 kB 2.5 MB/s \n",
            "\u001b[?25hRequirement already satisfied: numpy in /usr/local/lib/python3.7/dist-packages (from torchtext==0.6.0) (1.21.6)\n",
            "Requirement already satisfied: requests in /usr/local/lib/python3.7/dist-packages (from torchtext==0.6.0) (2.23.0)\n",
            "Requirement already satisfied: tqdm in /usr/local/lib/python3.7/dist-packages (from torchtext==0.6.0) (4.64.0)\n",
            "Collecting sentencepiece\n",
            "  Downloading sentencepiece-0.1.96-cp37-cp37m-manylinux_2_17_x86_64.manylinux2014_x86_64.whl (1.2 MB)\n",
            "\u001b[K     |████████████████████████████████| 1.2 MB 19.1 MB/s \n",
            "\u001b[?25hRequirement already satisfied: six in /usr/local/lib/python3.7/dist-packages (from torchtext==0.6.0) (1.15.0)\n",
            "Requirement already satisfied: torch in /usr/local/lib/python3.7/dist-packages (from torchtext==0.6.0) (1.11.0+cu113)\n",
            "Requirement already satisfied: urllib3!=1.25.0,!=1.25.1,<1.26,>=1.21.1 in /usr/local/lib/python3.7/dist-packages (from requests->torchtext==0.6.0) (1.24.3)\n",
            "Requirement already satisfied: chardet<4,>=3.0.2 in /usr/local/lib/python3.7/dist-packages (from requests->torchtext==0.6.0) (3.0.4)\n",
            "Requirement already satisfied: certifi>=2017.4.17 in /usr/local/lib/python3.7/dist-packages (from requests->torchtext==0.6.0) (2022.5.18.1)\n",
            "Requirement already satisfied: idna<3,>=2.5 in /usr/local/lib/python3.7/dist-packages (from requests->torchtext==0.6.0) (2.10)\n",
            "Requirement already satisfied: typing-extensions in /usr/local/lib/python3.7/dist-packages (from torch->torchtext==0.6.0) (4.2.0)\n",
            "Installing collected packages: sentencepiece, torchtext\n",
            "  Attempting uninstall: torchtext\n",
            "    Found existing installation: torchtext 0.12.0\n",
            "    Uninstalling torchtext-0.12.0:\n",
            "      Successfully uninstalled torchtext-0.12.0\n",
            "Successfully installed sentencepiece-0.1.96 torchtext-0.6.0\n"
          ]
        }
      ],
      "source": [
        "!pip install torchtext==0.6.0"
      ]
    },
    {
      "cell_type": "code",
      "source": [
        "import torch\n",
        "import torch.nn as nn\n",
        "import torch.optim as optim\n",
        "import torch.nn.functional as F\n",
        "\n",
        "from torchtext.datasets import TranslationDataset, Multi30k\n",
        "from torchtext.data import Field, BucketIterator\n",
        "from torchtext.data.metrics import bleu_score\n",
        "\n",
        "import numpy as np\n",
        "import math\n",
        "import random\n",
        "import spacy\n",
        "import time"
      ],
      "metadata": {
        "id": "PvWDYBuQIgxn"
      },
      "execution_count": null,
      "outputs": []
    },
    {
      "cell_type": "code",
      "source": [
        "device = torch.device(\"cuda\" if torch.cuda.is_available() else \"cpu\")\n",
        "print(\"Notebook is running on\", device)"
      ],
      "metadata": {
        "id": "Zcpq2cYMSVwZ",
        "colab": {
          "base_uri": "https://localhost:8080/"
        },
        "outputId": "f6c912ed-5e29-4991-94ca-02659fde87bc"
      },
      "execution_count": null,
      "outputs": [
        {
          "output_type": "stream",
          "name": "stdout",
          "text": [
            "Notebook is running on cuda\n"
          ]
        }
      ]
    },
    {
      "cell_type": "code",
      "source": [
        "SEED = 1111\n",
        "random.seed(SEED)\n",
        "np.random.seed(SEED)\n",
        "torch.manual_seed(SEED)\n",
        "torch.cuda.manual_seed(SEED)\n",
        "torch.backends.cudnn.deterministic = True"
      ],
      "metadata": {
        "id": "SDkNm35NSmgz"
      },
      "execution_count": null,
      "outputs": []
    },
    {
      "cell_type": "code",
      "source": [
        "!python -m spacy download de\n",
        "!python -m space download en"
      ],
      "metadata": {
        "id": "Ukmto_UfTV6w",
        "colab": {
          "base_uri": "https://localhost:8080/"
        },
        "outputId": "31c67031-9731-4e27-82c1-6719d45ca668"
      },
      "execution_count": null,
      "outputs": [
        {
          "output_type": "stream",
          "name": "stdout",
          "text": [
            "Looking in indexes: https://pypi.org/simple, https://us-python.pkg.dev/colab-wheels/public/simple/\n",
            "Collecting de_core_news_sm==2.2.5\n",
            "  Downloading https://github.com/explosion/spacy-models/releases/download/de_core_news_sm-2.2.5/de_core_news_sm-2.2.5.tar.gz (14.9 MB)\n",
            "\u001b[K     |████████████████████████████████| 14.9 MB 8.5 MB/s \n",
            "\u001b[?25hRequirement already satisfied: spacy>=2.2.2 in /usr/local/lib/python3.7/dist-packages (from de_core_news_sm==2.2.5) (2.2.4)\n",
            "Requirement already satisfied: tqdm<5.0.0,>=4.38.0 in /usr/local/lib/python3.7/dist-packages (from spacy>=2.2.2->de_core_news_sm==2.2.5) (4.64.0)\n",
            "Requirement already satisfied: cymem<2.1.0,>=2.0.2 in /usr/local/lib/python3.7/dist-packages (from spacy>=2.2.2->de_core_news_sm==2.2.5) (2.0.6)\n",
            "Requirement already satisfied: preshed<3.1.0,>=3.0.2 in /usr/local/lib/python3.7/dist-packages (from spacy>=2.2.2->de_core_news_sm==2.2.5) (3.0.6)\n",
            "Requirement already satisfied: wasabi<1.1.0,>=0.4.0 in /usr/local/lib/python3.7/dist-packages (from spacy>=2.2.2->de_core_news_sm==2.2.5) (0.9.1)\n",
            "Requirement already satisfied: setuptools in /usr/local/lib/python3.7/dist-packages (from spacy>=2.2.2->de_core_news_sm==2.2.5) (57.4.0)\n",
            "Requirement already satisfied: murmurhash<1.1.0,>=0.28.0 in /usr/local/lib/python3.7/dist-packages (from spacy>=2.2.2->de_core_news_sm==2.2.5) (1.0.7)\n",
            "Requirement already satisfied: numpy>=1.15.0 in /usr/local/lib/python3.7/dist-packages (from spacy>=2.2.2->de_core_news_sm==2.2.5) (1.21.6)\n",
            "Requirement already satisfied: requests<3.0.0,>=2.13.0 in /usr/local/lib/python3.7/dist-packages (from spacy>=2.2.2->de_core_news_sm==2.2.5) (2.23.0)\n",
            "Requirement already satisfied: srsly<1.1.0,>=1.0.2 in /usr/local/lib/python3.7/dist-packages (from spacy>=2.2.2->de_core_news_sm==2.2.5) (1.0.5)\n",
            "Requirement already satisfied: blis<0.5.0,>=0.4.0 in /usr/local/lib/python3.7/dist-packages (from spacy>=2.2.2->de_core_news_sm==2.2.5) (0.4.1)\n",
            "Requirement already satisfied: plac<1.2.0,>=0.9.6 in /usr/local/lib/python3.7/dist-packages (from spacy>=2.2.2->de_core_news_sm==2.2.5) (1.1.3)\n",
            "Requirement already satisfied: catalogue<1.1.0,>=0.0.7 in /usr/local/lib/python3.7/dist-packages (from spacy>=2.2.2->de_core_news_sm==2.2.5) (1.0.0)\n",
            "Requirement already satisfied: thinc==7.4.0 in /usr/local/lib/python3.7/dist-packages (from spacy>=2.2.2->de_core_news_sm==2.2.5) (7.4.0)\n",
            "Requirement already satisfied: importlib-metadata>=0.20 in /usr/local/lib/python3.7/dist-packages (from catalogue<1.1.0,>=0.0.7->spacy>=2.2.2->de_core_news_sm==2.2.5) (4.11.3)\n",
            "Requirement already satisfied: typing-extensions>=3.6.4 in /usr/local/lib/python3.7/dist-packages (from importlib-metadata>=0.20->catalogue<1.1.0,>=0.0.7->spacy>=2.2.2->de_core_news_sm==2.2.5) (4.2.0)\n",
            "Requirement already satisfied: zipp>=0.5 in /usr/local/lib/python3.7/dist-packages (from importlib-metadata>=0.20->catalogue<1.1.0,>=0.0.7->spacy>=2.2.2->de_core_news_sm==2.2.5) (3.8.0)\n",
            "Requirement already satisfied: chardet<4,>=3.0.2 in /usr/local/lib/python3.7/dist-packages (from requests<3.0.0,>=2.13.0->spacy>=2.2.2->de_core_news_sm==2.2.5) (3.0.4)\n",
            "Requirement already satisfied: certifi>=2017.4.17 in /usr/local/lib/python3.7/dist-packages (from requests<3.0.0,>=2.13.0->spacy>=2.2.2->de_core_news_sm==2.2.5) (2022.5.18.1)\n",
            "Requirement already satisfied: urllib3!=1.25.0,!=1.25.1,<1.26,>=1.21.1 in /usr/local/lib/python3.7/dist-packages (from requests<3.0.0,>=2.13.0->spacy>=2.2.2->de_core_news_sm==2.2.5) (1.24.3)\n",
            "Requirement already satisfied: idna<3,>=2.5 in /usr/local/lib/python3.7/dist-packages (from requests<3.0.0,>=2.13.0->spacy>=2.2.2->de_core_news_sm==2.2.5) (2.10)\n",
            "Building wheels for collected packages: de-core-news-sm\n",
            "  Building wheel for de-core-news-sm (setup.py) ... \u001b[?25l\u001b[?25hdone\n",
            "  Created wheel for de-core-news-sm: filename=de_core_news_sm-2.2.5-py3-none-any.whl size=14907055 sha256=83656985da670f1ac08fb7ad13dfb40931ab1d18f285152abb699a3435a49eb8\n",
            "  Stored in directory: /tmp/pip-ephem-wheel-cache-wcwfo0xb/wheels/00/66/69/cb6c921610087d2cab339062345098e30a5ceb665360e7b32a\n",
            "Successfully built de-core-news-sm\n",
            "Installing collected packages: de-core-news-sm\n",
            "Successfully installed de-core-news-sm-2.2.5\n",
            "\u001b[38;5;2m✔ Download and installation successful\u001b[0m\n",
            "You can now load the model via spacy.load('de_core_news_sm')\n",
            "\u001b[38;5;2m✔ Linking successful\u001b[0m\n",
            "/usr/local/lib/python3.7/dist-packages/de_core_news_sm -->\n",
            "/usr/local/lib/python3.7/dist-packages/spacy/data/de\n",
            "You can now load the model via spacy.load('de')\n",
            "/usr/bin/python3: No module named space\n"
          ]
        }
      ]
    },
    {
      "cell_type": "code",
      "source": [
        "de_model = spacy.load('de')\n",
        "en_model = spacy.load('en')"
      ],
      "metadata": {
        "id": "HujFUAXHTdnE"
      },
      "execution_count": null,
      "outputs": []
    },
    {
      "cell_type": "code",
      "source": [
        "def de_tokenizer(sentence):\n",
        "    return [token.text for token in de_model.tokenizer(sentence)]\n",
        "\n",
        "def en_tokenizer(sentence):\n",
        "    return [token.text for token in en_model.tokenizer(sentence)]"
      ],
      "metadata": {
        "id": "Ehe__08lTlVP"
      },
      "execution_count": null,
      "outputs": []
    },
    {
      "cell_type": "code",
      "source": [
        "Source_Field = Field(eos_token = 'src_eos', init_token = 'src_sos', lower = True, include_lengths = True, tokenize = de_tokenizer)\n",
        "Target_Field = Field(eos_token = 'src_eos', init_token = 'src_sos', lower = True, tokenize = en_tokenizer)"
      ],
      "metadata": {
        "id": "ZS7JBXKwT6EG"
      },
      "execution_count": null,
      "outputs": []
    },
    {
      "cell_type": "code",
      "source": [
        "def ipTensor(sentence, source_field):\n",
        "    if isinstance(sentence, list):\n",
        "        tokens = [source_field.init_token] + [token.lower() for token in sentence] + [source_field.eos_token]\n",
        "    else:\n",
        "        tokens = [source_field.init_token] + de_tokenizer(sentence) + [source_field.eos_token]\n",
        "    sequence_length = len(tokens)\n",
        "    input_tensor = torch.LongTensor([source_field.vocab.stoi[token] for token in tokens]).to(device)\n",
        "    return input_tensor.view(sequence_length, 1)"
      ],
      "metadata": {
        "id": "r7nNMAF8VUG7"
      },
      "execution_count": null,
      "outputs": []
    },
    {
      "cell_type": "code",
      "source": [
        "training_data, validation_data, test_data = Multi30k.splits(exts = ('.de', '.en'), fields = (Source_Field, Target_Field))\n",
        "Source_Field.build_vocab(training_data, min_freq = 2)\n",
        "Target_Field.build_vocab(training_data, min_freq = 2)\n",
        "print(f\"Source vocab size: {len(Source_Field.vocab)} | Target vocab size: {len(Target_Field.vocab)}\")"
      ],
      "metadata": {
        "id": "zZpUY_0oXzWU",
        "colab": {
          "base_uri": "https://localhost:8080/"
        },
        "outputId": "537bc0ac-6ea0-4619-9514-03d07d66db4f"
      },
      "execution_count": null,
      "outputs": [
        {
          "output_type": "stream",
          "name": "stdout",
          "text": [
            "downloading training.tar.gz\n"
          ]
        },
        {
          "output_type": "stream",
          "name": "stderr",
          "text": [
            "training.tar.gz: 100%|██████████| 1.21M/1.21M [00:01<00:00, 611kB/s] \n"
          ]
        },
        {
          "output_type": "stream",
          "name": "stdout",
          "text": [
            "downloading validation.tar.gz\n"
          ]
        },
        {
          "output_type": "stream",
          "name": "stderr",
          "text": [
            "validation.tar.gz: 100%|██████████| 46.3k/46.3k [00:00<00:00, 174kB/s]\n"
          ]
        },
        {
          "output_type": "stream",
          "name": "stdout",
          "text": [
            "downloading mmt_task1_test2016.tar.gz\n"
          ]
        },
        {
          "output_type": "stream",
          "name": "stderr",
          "text": [
            "mmt_task1_test2016.tar.gz: 100%|██████████| 66.2k/66.2k [00:00<00:00, 166kB/s]\n"
          ]
        },
        {
          "output_type": "stream",
          "name": "stdout",
          "text": [
            "Source vocab size: 7855 | Target vocab size: 5893\n"
          ]
        }
      ]
    },
    {
      "cell_type": "code",
      "source": [
        "class Encoder(nn.Module):\n",
        "    def __init__(self, vocab_size, embedding_dim, encoder_hidden_dim, decoder_hidden_dim, encoder_dropout):\n",
        "        super(Encoder, self).__init__()\n",
        "        self.embedding = nn.Embedding(vocab_size, embedding_dim)\n",
        "        self.dropout = nn.Dropout(encoder_dropout)\n",
        "        self.rnn = nn.GRU(input_size = embedding_dim, hidden_size = encoder_hidden_dim, bidirectional = True)\n",
        "        self.fc = nn.Linear(2 * encoder_hidden_dim, decoder_hidden_dim)\n",
        "\n",
        "    def forward(self, input):\n",
        "        embedding = self.dropout(self.embedding(input))\n",
        "        output, hidden = self.rnn(embedding)\n",
        "        hidden = torch.tanh(self.fc(torch.cat((hidden[-2,:,:], hidden[-1,:,:]), dim = 1)))\n",
        "        return output, hidden"
      ],
      "metadata": {
        "id": "uRPyfRhSU5UG"
      },
      "execution_count": null,
      "outputs": []
    },
    {
      "cell_type": "code",
      "source": [
        "class Attention(nn.Module):\n",
        "    def __init__(self, encoder_hidden_dim, decoder_hidden_dim):\n",
        "        super(Attention, self).__init__()\n",
        "        self.attention = nn.Linear(2 * encoder_hidden_dim + decoder_hidden_dim, decoder_hidden_dim)\n",
        "        self.v = nn.Linear(decoder_hidden_dim, 1, bias = False)\n",
        "\n",
        "    def forward(self, hidden, encoder_output):\n",
        "        batch_size = encoder_output.shape[1]\n",
        "        source_length = encoder_output.shape[0]\n",
        "        hidden = hidden.unsqueeze(1).repeat(1, source_length, 1)\n",
        "        encoder_output = encoder_output.permute(1, 0, 2)\n",
        "        energy = torch.tanh(self.attention(torch.cat((hidden, encoder_output), dim = 2)))\n",
        "        attention = self.v(energy).squeeze(2)\n",
        "        return F.softmax(attention, dim = 1)"
      ],
      "metadata": {
        "id": "LPioBp5mMcMf"
      },
      "execution_count": null,
      "outputs": []
    },
    {
      "cell_type": "code",
      "source": [
        "class Decoder(nn.Module):\n",
        "    def __init__(self, vocab_size, embedding_dim, encoder_hidden_dim, decoder_hidden_dim, decoder_dropout, attention):\n",
        "        super(Decoder, self).__init__()\n",
        "        self.output_dim = vocab_size\n",
        "        self.attention = attention\n",
        "        self.embedding = nn.Embedding(vocab_size, embedding_dim)\n",
        "        self.dropout = nn.Dropout(decoder_dropout)\n",
        "        self.rnn = nn.GRU(input_size = 2 * encoder_hidden_dim + embedding_dim, hidden_size = decoder_hidden_dim)\n",
        "        self.fc = nn.Linear(2 * encoder_hidden_dim + decoder_hidden_dim + embedding_dim, vocab_size)\n",
        "\n",
        "    def forward(self, input, hidden, encoder_output):\n",
        "        input = input.unsqueeze(0)\n",
        "        embedding = self.dropout(self.embedding(input))\n",
        "        a = self.attention(hidden, encoder_output)\n",
        "        a = a.unsqueeze(1)\n",
        "        encoder_output = encoder_output.permute(1, 0, 2)\n",
        "        weighted = torch.bmm(a, encoder_output)\n",
        "        weighted = weighted.permute(1, 0, 2)\n",
        "        rnn_input = torch.cat((embedding, weighted), dim = 2)\n",
        "        output, hidden = self.rnn(rnn_input, hidden.unsqueeze(0))\n",
        "        embedding = embedding.squeeze(0)\n",
        "        output = output.squeeze(0)\n",
        "        weighted = weighted.squeeze(0)\n",
        "        prediction = self.fc(torch.cat((output, weighted, embedding), dim = 1))\n",
        "        return prediction, hidden.squeeze(0)"
      ],
      "metadata": {
        "id": "lgdturRuL3Ju"
      },
      "execution_count": null,
      "outputs": []
    },
    {
      "cell_type": "code",
      "source": [
        "class Seq2Seq(nn.Module):\n",
        "    def __init__(self, encoder, decoder, device):\n",
        "        super(Seq2Seq, self).__init__()\n",
        "        self.encoder = encoder\n",
        "        self.decoder = decoder\n",
        "        self.device = device\n",
        "\n",
        "    def forward(self, source, target, teacher_forcing_ratio = 0.5):\n",
        "        batch_size = source.shape[1]\n",
        "        target_length = target.shape[0]\n",
        "        target_vocab_size = self.decoder.output_dim\n",
        "        outputs = torch.zeros(target_length, batch_size, target_vocab_size).to(self.device)\n",
        "        encoder_output, hidden = self.encoder(source)\n",
        "        input = target[0,:]\n",
        "        for t in range(1, target_length):\n",
        "            output, hidden = self.decoder(input, hidden, encoder_output)\n",
        "            outputs[t] = output\n",
        "            teacher_force = random.random() < teacher_forcing_ratio\n",
        "            top1 = output.argmax(1) \n",
        "            input = target[t] if teacher_force else top1\n",
        "        return outputs[1:]"
      ],
      "metadata": {
        "id": "D-kS7kDSxqQF"
      },
      "execution_count": null,
      "outputs": []
    },
    {
      "cell_type": "code",
      "source": [
        "def Train(iterator, model, criterion, optimizer, clip = 1):\n",
        "    model.train()\n",
        "    epoch_loss = 0\n",
        "    for _, batch in enumerate(iterator):\n",
        "        model.zero_grad()\n",
        "        source, source_length = batch.src\n",
        "        target = batch.trg\n",
        "        outputs = model(source, target)\n",
        "        outputs = outputs.view(-1, outputs.shape[-1])\n",
        "        targets = target[1:].view(-1)\n",
        "        batch_loss = criterion(outputs, targets.to(device))\n",
        "        batch_loss.backward()\n",
        "        torch.nn.utils.clip_grad_norm_(model.parameters(), clip)\n",
        "        optimizer.step()\n",
        "        epoch_loss += batch_loss.item()\n",
        "    return epoch_loss / len(iterator)"
      ],
      "metadata": {
        "id": "bOYMyA3g6xLz"
      },
      "execution_count": null,
      "outputs": []
    },
    {
      "cell_type": "code",
      "source": [
        "def Evaluate(iterator, model, criterion):\n",
        "    model.eval()\n",
        "    evaluation_loss = 0\n",
        "    with torch.no_grad():\n",
        "        for _, batch in enumerate(iterator):\n",
        "            source, source_length = batch.src\n",
        "            target = batch.trg\n",
        "            outputs = model(source, target, 0)\n",
        "            outputs = outputs.view(-1, outputs.shape[-1])\n",
        "            targets = target[1:].view(-1)\n",
        "            batch_loss = criterion(outputs, targets.to(device))\n",
        "            evaluation_loss += batch_loss.item()\n",
        "        return evaluation_loss / len(iterator)"
      ],
      "metadata": {
        "id": "jGixrQ5W-Wat"
      },
      "execution_count": null,
      "outputs": []
    },
    {
      "cell_type": "code",
      "source": [
        "def Epoch_Time(start_time, end_time):\n",
        "    elasped_time = end_time - start_time\n",
        "    elasped_mins = int(elasped_time / 60)\n",
        "    elasped_secs = int(elasped_time - (elasped_mins * 60))\n",
        "    return (elasped_mins, elasped_secs)"
      ],
      "metadata": {
        "id": "Re0mG4xu_3-8"
      },
      "execution_count": null,
      "outputs": []
    },
    {
      "cell_type": "code",
      "source": [
        "BATCH_SIZE = 128\n",
        "training_iterator, validation_iterator, test_iterator = BucketIterator.splits((training_data, validation_data, test_data), batch_size = BATCH_SIZE, device = device)"
      ],
      "metadata": {
        "id": "H3_nzUC3CkZh"
      },
      "execution_count": null,
      "outputs": []
    },
    {
      "cell_type": "code",
      "source": [
        "print(\"Number of Training sentences: \", len(training_data.examples))\n",
        "print(\"Number of Validation sentences: \", len(validation_data.examples))\n",
        "print(\"Number of Test sentences: \", len(test_data.examples))"
      ],
      "metadata": {
        "id": "FHSAJaqrGzcu",
        "colab": {
          "base_uri": "https://localhost:8080/"
        },
        "outputId": "c1010cd3-0446-428d-aff3-fe3d9753f90a"
      },
      "execution_count": null,
      "outputs": [
        {
          "output_type": "stream",
          "name": "stdout",
          "text": [
            "Number of Training sentences:  29000\n",
            "Number of Validation sentences:  1014\n",
            "Number of Test sentences:  1000\n"
          ]
        }
      ]
    },
    {
      "cell_type": "code",
      "source": [
        "CLIP = 1\n",
        "NUM_EPOCHS = 1\n",
        "HIDDEN_DIM = 512\n",
        "SOURCE_VOCAB_SIZE = len(Source_Field.vocab)\n",
        "TARGET_VOCAB_SIZE = len(Target_Field.vocab)\n",
        "EMBEDDING_DIM = 256\n",
        "NUM_LAYERS = 1\n",
        "ENCODER_DROPOUT = 0.5\n",
        "DECODER_DROPOUT = 0.5"
      ],
      "metadata": {
        "id": "dkoKgjGKHayo"
      },
      "execution_count": null,
      "outputs": []
    },
    {
      "cell_type": "code",
      "source": [
        "target_padding_index = Target_Field.vocab.stoi[Target_Field.pad_token]\n",
        "source_padding_index = Source_Field.vocab.stoi[Source_Field.pad_token]\n",
        "criterion = nn.CrossEntropyLoss(ignore_index = target_padding_index)"
      ],
      "metadata": {
        "id": "Oei1-9I6JE1K"
      },
      "execution_count": null,
      "outputs": []
    },
    {
      "cell_type": "code",
      "source": [
        "def initialize_weights(m):\n",
        "    for name, param in m.named_parameters():\n",
        "        if 'weight' in name: \n",
        "            nn.init.normal_(param.data, mean = 0, std = 0.01)\n",
        "        else:\n",
        "            nn.init.constant_(param.data, 0)"
      ],
      "metadata": {
        "id": "VK9POMLpMBnO"
      },
      "execution_count": null,
      "outputs": []
    },
    {
      "cell_type": "code",
      "source": [
        "attention = Attention(HIDDEN_DIM, HIDDEN_DIM)\n",
        "encoder = Encoder(SOURCE_VOCAB_SIZE, EMBEDDING_DIM, HIDDEN_DIM, HIDDEN_DIM, ENCODER_DROPOUT).to(device)\n",
        "decoder = Decoder(TARGET_VOCAB_SIZE, EMBEDDING_DIM, HIDDEN_DIM, HIDDEN_DIM, DECODER_DROPOUT, attention).to(device)\n",
        "seq2seq = Seq2Seq(encoder, decoder, device).to(device)\n",
        "optimizer = optim.Adam(seq2seq.parameters())"
      ],
      "metadata": {
        "id": "-LMTVSO3KAci"
      },
      "execution_count": null,
      "outputs": []
    },
    {
      "cell_type": "code",
      "source": [
        "seq2seq.apply(initialize_weights)"
      ],
      "metadata": {
        "id": "1XVw_ukEM6g6",
        "colab": {
          "base_uri": "https://localhost:8080/"
        },
        "outputId": "137bff11-94b6-4341-9642-0109ff5da5d9"
      },
      "execution_count": null,
      "outputs": [
        {
          "output_type": "execute_result",
          "data": {
            "text/plain": [
              "Seq2Seq(\n",
              "  (encoder): Encoder(\n",
              "    (embedding): Embedding(7855, 256)\n",
              "    (dropout): Dropout(p=0.5, inplace=False)\n",
              "    (rnn): GRU(256, 512, bidirectional=True)\n",
              "    (fc): Linear(in_features=1024, out_features=512, bias=True)\n",
              "  )\n",
              "  (decoder): Decoder(\n",
              "    (attention): Attention(\n",
              "      (attention): Linear(in_features=1536, out_features=512, bias=True)\n",
              "      (v): Linear(in_features=512, out_features=1, bias=False)\n",
              "    )\n",
              "    (embedding): Embedding(5893, 256)\n",
              "    (dropout): Dropout(p=0.5, inplace=False)\n",
              "    (rnn): GRU(1280, 512)\n",
              "    (fc): Linear(in_features=1792, out_features=5893, bias=True)\n",
              "  )\n",
              ")"
            ]
          },
          "metadata": {},
          "execution_count": 24
        }
      ]
    },
    {
      "cell_type": "code",
      "source": [
        "seq2seq.eval()\n",
        "best_valid_loss = float('inf')\n",
        "for epoch in range(NUM_EPOCHS):\n",
        "    \n",
        "    start_time = time.time()\n",
        "    train_loss = Train(training_iterator, seq2seq, criterion, optimizer, clip = 1)\n",
        "    valid_loss = Evaluate(validation_iterator, seq2seq, criterion)\n",
        "    \n",
        "    end_time = time.time()\n",
        "    \n",
        "    epoch_mins, epoch_secs = Epoch_Time(start_time, end_time)\n",
        "    \n",
        "    if valid_loss < best_valid_loss:\n",
        "        best_valid_loss = valid_loss\n",
        "\n",
        "    print(f'Epoch: {epoch+1:02} | Time: {epoch_mins}m {epoch_secs}s')\n",
        "    print(f'\\tTrain Loss: {train_loss:.3f} | Train PPL: {math.exp(train_loss):7.3f}')\n",
        "    print(f'\\t Val. Loss: {valid_loss:.3f} |  Val. PPL: {math.exp(valid_loss):7.3f}')"
      ],
      "metadata": {
        "id": "aYzMktPENFT-",
        "colab": {
          "base_uri": "https://localhost:8080/"
        },
        "outputId": "0deb689f-0e53-48f4-c282-c53b62e3d523"
      },
      "execution_count": null,
      "outputs": [
        {
          "output_type": "stream",
          "name": "stdout",
          "text": [
            "Epoch: 01 | Time: 1m 19s\n",
            "\tTrain Loss: 5.038 | Train PPL: 154.209\n",
            "\t Val. Loss: 5.124 |  Val. PPL: 168.045\n"
          ]
        }
      ]
    },
    {
      "cell_type": "code",
      "source": [
        "def Translate(source_sentence, source_field, target_field, model):\n",
        "    ip_tensor = ipTensor(source_sentence, source_field)\n",
        "    maximum_length = 4*ip_tensor.shape[0]\n",
        "    source_length = [ip_tensor.shape[0]]\n",
        "    with torch.no_grad():\n",
        "        encoder_output, encoder_states = model.encoder(ip_tensor)\n",
        "    decoder_states = encoder_states\n",
        "    sos_id = target_field.vocab.stoi[target_field.init_token]\n",
        "    eos_id = target_field.vocab.stoi[target_field.eos_token]\n",
        "    predicts = [sos_id]\n",
        "    print(decoder_states.size())\n",
        "    len = 1\n",
        "    while len < maximum_length:\n",
        "        input = torch.LongTensor([predicts[-1]]).view((1, 1)).to(device)\n",
        "        with torch.no_grad():\n",
        "            output, decoder_states = model.decoder(input, decoder_states, encoder_output)\n",
        "        decoder_states=decoder_states.squeeze(0)\n",
        "        output = output.squeeze()\n",
        "        output = output.view(-1, model.decoder.output_size)\n",
        "        predicts.append(output.argmax(-1).item())\n",
        "        len += 1\n",
        "        if predicts[-1] == eos_id:\n",
        "            break\n",
        "    sentence = [target_field.vocab.itos[id] for id in predicts[1:]]\n",
        "    return sentence\n"
      ],
      "metadata": {
        "id": "wq14ZjrlkQCq"
      },
      "execution_count": null,
      "outputs": []
    },
    {
      "cell_type": "code",
      "source": [
        "ind = int(random.random() * len(test_data.examples))\n",
        "example = test_data.examples[ind]\n",
        "source_sentence = example.src\n",
        "target_sentence = example.trg\n",
        "print(\"German: \", ' '.join(source_sentence))\n",
        "translation = Translate(source_sentence, Source_Field, Target_Field, seq2seq)\n",
        "print(\"English: \", ' '.join(translation[:-1]))\n",
        "print(\"Actual Translation: \", ' '.join(target_sentence))"
      ],
      "metadata": {
        "id": "1O7t63jwlpGP"
      },
      "execution_count": null,
      "outputs": []
    },
    {
      "cell_type": "code",
      "source": [
        "def Calculate_BLEU(data, source_field, target_field, model):\n",
        "    trgs = []\n",
        "    predicted_trgs = []\n",
        "    for i in range(len(data.examples)):\n",
        "        src_sentence = vars(data[i])['src']\n",
        "        trg_sentence = vars(data[i])['trg']\n",
        "        try:                                # Sometimes(rarely) CUDA throws a \"Device side assert triggered\" error. So, just to avoid restarting runtime.\n",
        "            predicted_trg, _ = Translate(src_sentence, source_field, target_field, model)\n",
        "            predicted_trgs.append(predicted_trg[:-1])\n",
        "            trgs.append([trg_sentence])\n",
        "        except:\n",
        "            pass\n",
        "    return bleu_score(predicted_trgs, trgs)"
      ],
      "metadata": {
        "id": "1ck5mkp5kEdD"
      },
      "execution_count": null,
      "outputs": []
    }
  ]
}